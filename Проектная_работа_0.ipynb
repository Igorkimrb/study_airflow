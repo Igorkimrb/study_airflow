{
 "cells": [
  {
   "cell_type": "code",
   "execution_count": 32,
   "metadata": {
    "id": "hAoSxEtn0QIo"
   },
   "outputs": [],
   "source": [
    "# Импорт необходимых библиотек\n",
    "import pandas as pd\n",
    "import sqlite3\n",
    "from datetime import datetime, timedelta"
   ]
  },
  {
   "cell_type": "code",
   "execution_count": 4,
   "metadata": {
    "id": "g8AqrUWDa25D"
   },
   "outputs": [],
   "source": [
    "# Создадим базу данных с которой будем работать\n",
    "CONN = sqlite3.connect('sqlite3.db')"
   ]
  },
  {
   "cell_type": "code",
   "execution_count": 9,
   "metadata": {
    "id": "WN5AxNjudXrP"
   },
   "outputs": [],
   "source": [
    "# Напишите функцию которая скачивает курс валюты EUR/USD с гитхаба\n",
    "# Функция принимает на вход дату\n",
    "# Функция должна вернуть список словарей или можно использовать можно использоват pandas.read_csv()\n",
    "\n",
    "# ссылка на гитхаб с файлами - https://github.com/datanlnja/airflow_course/tree/main/excangerate\n",
    "\n",
    "def extract_currency(date):\n",
    "    currency = pd.read_csv(f'https://raw.githubusercontent.com/datanlnja/airflow_course/main/excangerate/{date}.csv')\n",
    "    return currency"
   ]
  },
  {
   "cell_type": "code",
   "execution_count": 10,
   "metadata": {},
   "outputs": [
    {
     "data": {
      "text/html": [
       "<div>\n",
       "<style scoped>\n",
       "    .dataframe tbody tr th:only-of-type {\n",
       "        vertical-align: middle;\n",
       "    }\n",
       "\n",
       "    .dataframe tbody tr th {\n",
       "        vertical-align: top;\n",
       "    }\n",
       "\n",
       "    .dataframe thead th {\n",
       "        text-align: right;\n",
       "    }\n",
       "</style>\n",
       "<table border=\"1\" class=\"dataframe\">\n",
       "  <thead>\n",
       "    <tr style=\"text-align: right;\">\n",
       "      <th></th>\n",
       "      <th>date</th>\n",
       "      <th>currency_from</th>\n",
       "      <th>currency_to</th>\n",
       "      <th>amount</th>\n",
       "    </tr>\n",
       "  </thead>\n",
       "  <tbody>\n",
       "    <tr>\n",
       "      <th>0</th>\n",
       "      <td>2021-01-02</td>\n",
       "      <td>eur</td>\n",
       "      <td>usd</td>\n",
       "      <td>1.22</td>\n",
       "    </tr>\n",
       "  </tbody>\n",
       "</table>\n",
       "</div>"
      ],
      "text/plain": [
       "         date currency_from currency_to  amount\n",
       "0  2021-01-02           eur         usd    1.22"
      ]
     },
     "execution_count": 10,
     "metadata": {},
     "output_type": "execute_result"
    }
   ],
   "source": [
    "#проверка\n",
    "extract_currency('2021-01-02')"
   ]
  },
  {
   "cell_type": "code",
   "execution_count": 19,
   "metadata": {
    "id": "ClRqffvefPA7"
   },
   "outputs": [],
   "source": [
    "# Напишите функцию которая скачивает данные с гитхаба\n",
    "# Функция принимает на вход дату\n",
    "# Функция должна вернуть список словарей или можно использовать можно использоват pandas.read_csv()\n",
    "\n",
    "# ссылка на гитхаб с файлами - https://github.com/datanlnja/airflow_course/tree/main/data\n",
    "\n",
    "def extract_data(date):\n",
    "    data = pd.read_csv(f'https://raw.githubusercontent.com/datanlnja/airflow_course/main/data/{date}.csv')\n",
    "    return data"
   ]
  },
  {
   "cell_type": "code",
   "execution_count": 20,
   "metadata": {},
   "outputs": [
    {
     "data": {
      "text/html": [
       "<div>\n",
       "<style scoped>\n",
       "    .dataframe tbody tr th:only-of-type {\n",
       "        vertical-align: middle;\n",
       "    }\n",
       "\n",
       "    .dataframe tbody tr th {\n",
       "        vertical-align: top;\n",
       "    }\n",
       "\n",
       "    .dataframe thead th {\n",
       "        text-align: right;\n",
       "    }\n",
       "</style>\n",
       "<table border=\"1\" class=\"dataframe\">\n",
       "  <thead>\n",
       "    <tr style=\"text-align: right;\">\n",
       "      <th></th>\n",
       "      <th>currency</th>\n",
       "      <th>value</th>\n",
       "      <th>date</th>\n",
       "    </tr>\n",
       "  </thead>\n",
       "  <tbody>\n",
       "    <tr>\n",
       "      <th>0</th>\n",
       "      <td>EUR</td>\n",
       "      <td>27</td>\n",
       "      <td>2021-01-02</td>\n",
       "    </tr>\n",
       "    <tr>\n",
       "      <th>1</th>\n",
       "      <td>EUR</td>\n",
       "      <td>71</td>\n",
       "      <td>2021-01-02</td>\n",
       "    </tr>\n",
       "    <tr>\n",
       "      <th>2</th>\n",
       "      <td>EUR</td>\n",
       "      <td>39</td>\n",
       "      <td>2021-01-02</td>\n",
       "    </tr>\n",
       "    <tr>\n",
       "      <th>3</th>\n",
       "      <td>EUR</td>\n",
       "      <td>94</td>\n",
       "      <td>2021-01-02</td>\n",
       "    </tr>\n",
       "    <tr>\n",
       "      <th>4</th>\n",
       "      <td>EUR</td>\n",
       "      <td>45</td>\n",
       "      <td>2021-01-02</td>\n",
       "    </tr>\n",
       "    <tr>\n",
       "      <th>5</th>\n",
       "      <td>EUR</td>\n",
       "      <td>3</td>\n",
       "      <td>2021-01-02</td>\n",
       "    </tr>\n",
       "    <tr>\n",
       "      <th>6</th>\n",
       "      <td>EUR</td>\n",
       "      <td>49</td>\n",
       "      <td>2021-01-02</td>\n",
       "    </tr>\n",
       "    <tr>\n",
       "      <th>7</th>\n",
       "      <td>EUR</td>\n",
       "      <td>96</td>\n",
       "      <td>2021-01-02</td>\n",
       "    </tr>\n",
       "    <tr>\n",
       "      <th>8</th>\n",
       "      <td>EUR</td>\n",
       "      <td>36</td>\n",
       "      <td>2021-01-02</td>\n",
       "    </tr>\n",
       "  </tbody>\n",
       "</table>\n",
       "</div>"
      ],
      "text/plain": [
       "  currency  value        date\n",
       "0      EUR     27  2021-01-02\n",
       "1      EUR     71  2021-01-02\n",
       "2      EUR     39  2021-01-02\n",
       "3      EUR     94  2021-01-02\n",
       "4      EUR     45  2021-01-02\n",
       "5      EUR      3  2021-01-02\n",
       "6      EUR     49  2021-01-02\n",
       "7      EUR     96  2021-01-02\n",
       "8      EUR     36  2021-01-02"
      ]
     },
     "execution_count": 20,
     "metadata": {},
     "output_type": "execute_result"
    }
   ],
   "source": [
    "#проверка\n",
    "extract_data('2021-01-02')"
   ]
  },
  {
   "cell_type": "code",
   "execution_count": 28,
   "metadata": {
    "id": "3Nr4KoeUdcKb"
   },
   "outputs": [],
   "source": [
    "# Напишите функцию которая принимает на вход список словарей, или пандас датафрейм\n",
    "# и загружает в табличку в sqlite, можно использоват pandas.to_sql()\n",
    "def insert_to_db(data, table_name, conn):\n",
    "    data.to_sql( name= table_name, con = conn, if_exists='append')"
   ]
  },
  {
   "cell_type": "code",
   "execution_count": 44,
   "metadata": {},
   "outputs": [],
   "source": [
    "#проверка\n",
    "data = extract_data('2021-01-02')\n",
    "insert_to_db(data, 'data', CONN)"
   ]
  },
  {
   "cell_type": "code",
   "execution_count": 45,
   "metadata": {
    "id": "bQwysQOTfL6x"
   },
   "outputs": [],
   "source": [
    "# Напишите функцию которая выполнит SQL запрос к базу данных\n",
    "# Здесь удобно использовать sqlalchemy или https://pythonru.com/biblioteki/vvedenie-v-sqlite-python\n",
    "# Если выполняется select ... то функция должна возвращать результат (не None)\n",
    "# Если используется внутренняя операция например truncate table, insert into select ... то возвращает None\n",
    "# data = sql_query(sql=\"select * from table\") -> [(1, 2, 3), (4, 5, 6) ...]\n",
    "# sql_query(\"truncate table\") -> None\n",
    "\n",
    "def sql_query(sql, conn):\n",
    "    cursor = CONN.cursor()\n",
    "    cursor.execute(sql)\n",
    "    record = cursor.fetchall()\n",
    "    cursor.close()\n",
    "    if sql.split()[0].lower()=='select':\n",
    "        return record"
   ]
  },
  {
   "cell_type": "code",
   "execution_count": 46,
   "metadata": {},
   "outputs": [
    {
     "data": {
      "text/plain": [
       "[(0, 'EUR', 27, '2021-01-02'),\n",
       " (1, 'EUR', 71, '2021-01-02'),\n",
       " (2, 'EUR', 39, '2021-01-02'),\n",
       " (3, 'EUR', 94, '2021-01-02'),\n",
       " (4, 'EUR', 45, '2021-01-02'),\n",
       " (5, 'EUR', 3, '2021-01-02'),\n",
       " (6, 'EUR', 49, '2021-01-02'),\n",
       " (7, 'EUR', 96, '2021-01-02'),\n",
       " (8, 'EUR', 36, '2021-01-02')]"
      ]
     },
     "execution_count": 46,
     "metadata": {},
     "output_type": "execute_result"
    }
   ],
   "source": [
    "#проверка\n",
    "sql_query('select * from data', CONN)"
   ]
  },
  {
   "cell_type": "code",
   "execution_count": 47,
   "metadata": {},
   "outputs": [],
   "source": [
    "sql_query('drop table data', CONN)"
   ]
  },
  {
   "cell_type": "code",
   "execution_count": 38,
   "metadata": {},
   "outputs": [],
   "source": [
    "# Напишите генерацию дат, так чтобы у вас получился список\n",
    "# 2021-01-02, 2021-01-03 ... etc\n",
    "# Нужны даты с 2021-01-01 по 2021-01-04\n",
    "start_date = datetime(2021, 1, 1)\n",
    "end_date = datetime(2021, 1, 5)\n",
    "\n",
    "dates_list = []\n",
    "current_date = start_date\n",
    "\n",
    "while current_date < end_date:\n",
    "    dates_list.append(current_date.strftime(\"%Y-%m-%d\"))\n",
    "    current_date += timedelta(days=1)"
   ]
  },
  {
   "cell_type": "code",
   "execution_count": 79,
   "metadata": {
    "id": "EQxB_D47gl7e"
   },
   "outputs": [],
   "source": [
    "# Запустите ваш код в функции main   \n",
    "def main(date, conn):\n",
    "\n",
    "  # Выгружаем данные по валютам и из источника\n",
    "  currency = extract_currency(date)\n",
    "  data = extract_data(date)\n",
    "\n",
    "  # Создайте необходимые таблицы если это нужно\n",
    "  # 'currency', 'data' и 'join_data (таблица с объединенными данными)\n",
    "\n",
    "  sql_query('create table if not exists join_data(date DateOnly,code TEXT,base TEXT,rate REAL ,value INTEGER)', conn)\n",
    "\n",
    "  # Вставляем данные в БД\n",
    "  # У вас долнжо получиться 2 таблицы CURRENCY, DATA\n",
    "  insert_to_db(currency, 'currency', conn)\n",
    "  insert_to_db(data, 'data',conn)\n",
    "\n",
    "  # Объединение данных в отдельную таблицу JOIN_DATA\n",
    "  # CURRENCY, DATA объединить через JOIN по дате и валюте\n",
    "  # Используйте insert into select ... inner join ...\n",
    "  # И соответственно создать таблицу для этого\n",
    "    \n",
    "  sql_query('insert into JOIN_DATA(date,code,base,rate,value) select distinct c.date, upper(currency_to), d.currency, amount, value from currency c join data d on d.date = c.date and d.currency = upper(c.currency_from)', conn)\n",
    "\n",
    "  # Очистка временных таблиц CURRENCY, DATA\n",
    "  # Это те таблицы куда произошла вставка данных\n",
    "  # Используйте truncate\n",
    "    \n",
    "  sql_query('delete from data', conn) #кажется у sqlite нет truncate\n",
    "  sql_query('delete from currency',conn)\n",
    "\n",
    "\n",
    "# Пройдемся по списку дат и выполним скрипт\n",
    "for date in dates_list:\n",
    "    main(date, CONN)"
   ]
  },
  {
   "cell_type": "code",
   "execution_count": 80,
   "metadata": {
    "id": "oKOYD6FjsRGt"
   },
   "outputs": [
    {
     "name": "stdout",
     "output_type": "stream",
     "text": [
      "('2021-01-01', 'USD', 'EUR', 1.21, 23)\n",
      "('2021-01-01', 'USD', 'EUR', 1.21, 24)\n",
      "('2021-01-01', 'USD', 'EUR', 1.21, 38)\n",
      "('2021-01-01', 'USD', 'EUR', 1.21, 42)\n",
      "('2021-01-01', 'USD', 'EUR', 1.21, 48)\n",
      "('2021-01-01', 'USD', 'EUR', 1.21, 65)\n",
      "('2021-01-01', 'USD', 'EUR', 1.21, 74)\n",
      "('2021-01-01', 'USD', 'EUR', 1.21, 86)\n",
      "('2021-01-02', 'USD', 'EUR', 1.22, 3)\n",
      "('2021-01-02', 'USD', 'EUR', 1.22, 27)\n",
      "('2021-01-02', 'USD', 'EUR', 1.22, 36)\n",
      "('2021-01-02', 'USD', 'EUR', 1.22, 39)\n",
      "('2021-01-02', 'USD', 'EUR', 1.22, 45)\n",
      "('2021-01-02', 'USD', 'EUR', 1.22, 49)\n",
      "('2021-01-02', 'USD', 'EUR', 1.22, 71)\n",
      "('2021-01-02', 'USD', 'EUR', 1.22, 94)\n",
      "('2021-01-02', 'USD', 'EUR', 1.22, 96)\n",
      "('2021-01-03', 'USD', 'EUR', 1.22, 2)\n",
      "('2021-01-03', 'USD', 'EUR', 1.22, 23)\n",
      "('2021-01-03', 'USD', 'EUR', 1.22, 35)\n",
      "('2021-01-03', 'USD', 'EUR', 1.22, 40)\n",
      "('2021-01-03', 'USD', 'EUR', 1.22, 41)\n",
      "('2021-01-03', 'USD', 'EUR', 1.22, 56)\n",
      "('2021-01-03', 'USD', 'EUR', 1.22, 93)\n",
      "('2021-01-03', 'USD', 'EUR', 1.22, 100)\n"
     ]
    }
   ],
   "source": [
    "# чтобы првоерить решение можете обратиться к вашей базе данных таким образом\n",
    "\n",
    "import sqlite3\n",
    "\n",
    "# Создаем подключение к базе данных\n",
    "conn = sqlite3.connect('sqlite3.db')\n",
    "\n",
    "# Создаем курсор для выполнения SQL-запросов\n",
    "cursor = conn.cursor()\n",
    "\n",
    "# Выполняем запрос к таблице\n",
    "cursor.execute(\"SELECT * FROM JOIN_DATA\")\n",
    "\n",
    "# Извлекаем все строки из результата запроса\n",
    "rows = cursor.fetchall()\n",
    "\n",
    "# Выводим результаты\n",
    "for row in rows:\n",
    "    print(row)\n",
    "\n",
    "# Закрываем соединение\n",
    "conn.close()"
   ]
  }
 ],
 "metadata": {
  "colab": {
   "provenance": []
  },
  "kernelspec": {
   "display_name": "Python 3 (ipykernel)",
   "language": "python",
   "name": "python3"
  },
  "language_info": {
   "codemirror_mode": {
    "name": "ipython",
    "version": 3
   },
   "file_extension": ".py",
   "mimetype": "text/x-python",
   "name": "python",
   "nbconvert_exporter": "python",
   "pygments_lexer": "ipython3",
   "version": "3.9.13"
  }
 },
 "nbformat": 4,
 "nbformat_minor": 1
}
